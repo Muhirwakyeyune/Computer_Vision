{
  "metadata": {
    "kernelspec": {
      "display_name": "Python 3",
      "language": "python",
      "name": "python3"
    },
    "language_info": {
      "codemirror_mode": {
        "name": "ipython",
        "version": 3
      },
      "file_extension": ".py",
      "mimetype": "text/x-python",
      "name": "python",
      "nbconvert_exporter": "python",
      "pygments_lexer": "ipython3",
      "version": "3.7.9"
    },
    "papermill": {
      "default_parameters": {},
      "duration": 585.822379,
      "end_time": "2021-03-29T12:00:26.314136",
      "environment_variables": {},
      "exception": null,
      "input_path": "__notebook__.ipynb",
      "output_path": "__notebook__.ipynb",
      "parameters": {},
      "start_time": "2021-03-29T11:50:40.491757",
      "version": "2.2.2"
    },
    "colab": {
      "provenance": [],
      "include_colab_link": true
    }
  },
  "nbformat_minor": 0,
  "nbformat": 4,
  "cells": [
    {
      "cell_type": "markdown",
      "metadata": {
        "id": "view-in-github",
        "colab_type": "text"
      },
      "source": [
        "<a href=\"https://colab.research.google.com/github/Muhirwakyeyune/Computer_Vision/blob/main/Muhirwa_Salomon_Cassava_project.ipynb\" target=\"_parent\"><img src=\"https://colab.research.google.com/assets/colab-badge.svg\" alt=\"Open In Colab\"/></a>"
      ]
    },
    {
      "cell_type": "code",
      "source": [
        "#Imports\n",
        "import os\n",
        "import sys\n",
        "import glob\n",
        "import torch\n",
        "import torchvision\n",
        "\n",
        "import numpy    as np\n",
        "import datetime as dt\n",
        "import torch.nn as nn\n",
        "import torch.nn.functional as F\n",
        "import matplotlib.pyplot   as plt\n",
        "\n",
        "from PIL               import Image\n",
        "from torch.utils.data  import Dataset\n",
        "from torch.autograd    import Variable\n",
        "from torch.optim       import lr_scheduler\n",
        "\n",
        "from torch.utils.data  import Dataset, DataLoader\n",
        "from torch.utils.data.sampler import SubsetRandomSampler\n",
        "from torchvision       import transforms, datasets, models\n",
        "from os                import listdir, makedirs, getcwd, remove\n",
        "from os.path           import isfile, join, abspath, exists, isdir, expanduser\n",
        "\n",
        "\n",
        "%matplotlib inline"
      ],
      "metadata": {
        "_cell_guid": "b1076dfc-b9ad-4769-8c92-a6c4dae69d19",
        "_uuid": "8f2839f25d086af736a60e9eeb907d3b93b6e0e5",
        "execution": {
          "iopub.execute_input": "2021-03-29T11:50:47.113679Z",
          "iopub.status.busy": "2021-03-29T11:50:47.112747Z",
          "iopub.status.idle": "2021-03-29T11:50:48.533511Z",
          "shell.execute_reply": "2021-03-29T11:50:48.531962Z"
        },
        "papermill": {
          "duration": 1.438614,
          "end_time": "2021-03-29T11:50:48.533762",
          "exception": false,
          "start_time": "2021-03-29T11:50:47.095148",
          "status": "completed"
        },
        "tags": [],
        "id": "1uBX3oovDj5d"
      },
      "execution_count": 23,
      "outputs": []
    },
    {
      "cell_type": "code",
      "source": [
        "data_path = \"../input/ammi-2021-convnets/\"\n",
        "train_path = join(data_path, \"train/train\")\n",
        "test_path = join(data_path,\"test/test\")\n",
        "extraimage_path = join(data_path, \"extraimages/extraimages\")"
      ],
      "metadata": {
        "execution": {
          "iopub.execute_input": "2021-03-29T11:50:48.562113Z",
          "iopub.status.busy": "2021-03-29T11:50:48.561395Z",
          "iopub.status.idle": "2021-03-29T11:50:48.566167Z",
          "shell.execute_reply": "2021-03-29T11:50:48.565566Z"
        },
        "papermill": {
          "duration": 0.021142,
          "end_time": "2021-03-29T11:50:48.566314",
          "exception": false,
          "start_time": "2021-03-29T11:50:48.545172",
          "status": "completed"
        },
        "tags": [],
        "id": "fvFqZYxPDj5f"
      },
      "execution_count": 20,
      "outputs": []
    },
    {
      "cell_type": "code",
      "source": [
        "import os\n",
        "os.environ['KAGGLE_USERNAME'] = 'muhirwasalomon'\n",
        "os.environ['KAGGLE_KEY'] = 'f2e155be15e51da2a38317f327c0669b'\n",
        "!kaggle competitions download -c ammi-2023-convnets\n",
        "!unzip -q ammi-2023-convnets.zip -d ammi-2023-convnets\n"
      ],
      "metadata": {
        "colab": {
          "base_uri": "https://localhost:8080/"
        },
        "id": "ChVauGfkLXEN",
        "outputId": "bd6a3e0d-eddc-47bf-9fe4-4ea19b0f80aa"
      },
      "execution_count": 24,
      "outputs": [
        {
          "output_type": "stream",
          "name": "stdout",
          "text": [
            "ammi-2023-convnets.zip: Skipping, found more recently modified local copy (use --force to force download)\n",
            "replace ammi-2023-convnets/extraimages/extraimages/extra-image-1.jpg? [y]es, [n]o, [A]ll, [N]one, [r]ename: "
          ]
        }
      ]
    },
    {
      "cell_type": "code",
      "source": [
        "train_path = 'ammi-2023-convnets/train/train'\n",
        "test_path = 'ammi-2023-convnets/test/test'\n"
      ],
      "metadata": {
        "id": "N0269eUFLXQK"
      },
      "execution_count": 26,
      "outputs": []
    },
    {
      "cell_type": "code",
      "source": [
        "# Transformations for both the training and testing data\n",
        "mean=[0.485, 0.456, 0.406]\n",
        "std=[0.229, 0.224, 0.225]\n",
        "\n",
        "# Do data transforms here, Try many others\n",
        "train_transforms = transforms.Compose([transforms.RandomRotation(30),\n",
        "                                       transforms.RandomResizedCrop(224),\n",
        "                                       transforms.RandomHorizontalFlip(),\n",
        "                                       transforms.ToTensor()])\n",
        "\n",
        "test_transforms = transforms.Compose([ transforms.Resize(255),\n",
        "                                       transforms.CenterCrop(224),\n",
        "                                       transforms.ToTensor()])\n",
        "\n",
        "normalize = transforms.Normalize(mean=mean, std=std)"
      ],
      "metadata": {
        "execution": {
          "iopub.execute_input": "2021-03-29T11:50:48.592031Z",
          "iopub.status.busy": "2021-03-29T11:50:48.591171Z",
          "iopub.status.idle": "2021-03-29T11:50:48.597568Z",
          "shell.execute_reply": "2021-03-29T11:50:48.598199Z"
        },
        "papermill": {
          "duration": 0.021092,
          "end_time": "2021-03-29T11:50:48.598404",
          "exception": false,
          "start_time": "2021-03-29T11:50:48.577312",
          "status": "completed"
        },
        "tags": [],
        "id": "bFubZCbFDj5f"
      },
      "execution_count": 27,
      "outputs": []
    },
    {
      "cell_type": "code",
      "source": [
        "class CassavaDataset(Dataset):\n",
        "    def __init__(self, path, transform=None):\n",
        "        self.classes = os.listdir(path)\n",
        "        self.path = [f\"{path}/{className}\" for className in self.classes]\n",
        "        self.file_list = [glob.glob(f\"{x}/*\") for x in self.path]\n",
        "        self.transform = transform\n",
        "\n",
        "        files = []\n",
        "        for i, className in enumerate(self.classes):\n",
        "            for fileName in self.file_list[i]:\n",
        "                files.append([i, className, fileName])\n",
        "        self.file_list = files\n",
        "        files = None\n",
        "\n",
        "    def __len__(self):\n",
        "        return len(self.file_list)\n",
        "\n",
        "    def __getitem__(self, idx):\n",
        "        fileName = self.file_list[idx][2]\n",
        "        classCategory = self.file_list[idx][0]\n",
        "        im = Image.open(fileName)\n",
        "        if self.transform:\n",
        "            im = self.transform(im)\n",
        "            \n",
        "        return im.view(3, 224, 224), classCategory"
      ],
      "metadata": {
        "execution": {
          "iopub.execute_input": "2021-03-29T11:50:48.624942Z",
          "iopub.status.busy": "2021-03-29T11:50:48.623913Z",
          "iopub.status.idle": "2021-03-29T11:50:48.633036Z",
          "shell.execute_reply": "2021-03-29T11:50:48.633524Z"
        },
        "papermill": {
          "duration": 0.02374,
          "end_time": "2021-03-29T11:50:48.633742",
          "exception": false,
          "start_time": "2021-03-29T11:50:48.610002",
          "status": "completed"
        },
        "tags": [],
        "id": "aSN2Bp0pDj5g"
      },
      "execution_count": 28,
      "outputs": []
    },
    {
      "cell_type": "code",
      "source": [
        "train_data = CassavaDataset(train_path, transform=train_transforms)\n",
        "test_data = CassavaDataset(test_path, transform=test_transforms)"
      ],
      "metadata": {
        "execution": {
          "iopub.execute_input": "2021-03-29T11:50:48.660118Z",
          "iopub.status.busy": "2021-03-29T11:50:48.659412Z",
          "iopub.status.idle": "2021-03-29T11:50:49.259604Z",
          "shell.execute_reply": "2021-03-29T11:50:49.258883Z"
        },
        "papermill": {
          "duration": 0.614629,
          "end_time": "2021-03-29T11:50:49.259763",
          "exception": false,
          "start_time": "2021-03-29T11:50:48.645134",
          "status": "completed"
        },
        "tags": [],
        "id": "m1HdoROODj5g"
      },
      "execution_count": 29,
      "outputs": []
    },
    {
      "cell_type": "code",
      "source": [
        "validation_split = .2\n",
        "shuffle_dataset = True\n",
        "random_seed= 42\n",
        "\n",
        "# Creating data indices for training and validation splits:\n",
        "dataset_size = len(train_data)\n",
        "indices = list(range(dataset_size))\n",
        "split = int(np.floor(validation_split * dataset_size))\n",
        "\n",
        "if shuffle_dataset :\n",
        "    np.random.seed(random_seed)\n",
        "    np.random.shuffle(indices)\n",
        "\n",
        "train_indices, val_indices = indices[split:], indices[:split]"
      ],
      "metadata": {
        "execution": {
          "iopub.execute_input": "2021-03-29T11:50:49.291431Z",
          "iopub.status.busy": "2021-03-29T11:50:49.290391Z",
          "iopub.status.idle": "2021-03-29T11:50:49.293477Z",
          "shell.execute_reply": "2021-03-29T11:50:49.292843Z"
        },
        "papermill": {
          "duration": 0.022198,
          "end_time": "2021-03-29T11:50:49.293623",
          "exception": false,
          "start_time": "2021-03-29T11:50:49.271425",
          "status": "completed"
        },
        "tags": [],
        "id": "bPKPGWEPDj5g"
      },
      "execution_count": 30,
      "outputs": []
    },
    {
      "cell_type": "code",
      "source": [
        "# Creating PT data samplers and loaders:\n",
        "train_sampler = SubsetRandomSampler(train_indices)\n",
        "valid_sampler = SubsetRandomSampler(val_indices)\n",
        "\n",
        "\n",
        "train_loader = torch.utils.data.DataLoader(train_data, batch_size=32,\n",
        "                                             sampler=train_sampler)\n",
        "valid_loader = torch.utils.data.DataLoader(train_data, batch_size=32,\n",
        "                                             sampler=valid_sampler)\n",
        "test_loader = torch.utils.data.DataLoader(test_data, batch_size=32)"
      ],
      "metadata": {
        "execution": {
          "iopub.execute_input": "2021-03-29T11:50:49.323640Z",
          "iopub.status.busy": "2021-03-29T11:50:49.322961Z",
          "iopub.status.idle": "2021-03-29T11:50:49.326483Z",
          "shell.execute_reply": "2021-03-29T11:50:49.327032Z"
        },
        "papermill": {
          "duration": 0.02193,
          "end_time": "2021-03-29T11:50:49.327221",
          "exception": false,
          "start_time": "2021-03-29T11:50:49.305291",
          "status": "completed"
        },
        "tags": [],
        "id": "DIYSHVxcDj5h"
      },
      "execution_count": 31,
      "outputs": []
    },
    {
      "cell_type": "code",
      "source": [
        "# Device configuration\n",
        "device = torch.device('cuda:0' if torch.cuda.is_available() else 'cpu')"
      ],
      "metadata": {
        "execution": {
          "iopub.execute_input": "2021-03-29T11:50:49.356639Z",
          "iopub.status.busy": "2021-03-29T11:50:49.355943Z",
          "iopub.status.idle": "2021-03-29T11:50:49.359522Z",
          "shell.execute_reply": "2021-03-29T11:50:49.360085Z"
        },
        "papermill": {
          "duration": 0.021251,
          "end_time": "2021-03-29T11:50:49.360270",
          "exception": false,
          "start_time": "2021-03-29T11:50:49.339019",
          "status": "completed"
        },
        "tags": [],
        "id": "XJBigeWeDj5h"
      },
      "execution_count": 32,
      "outputs": []
    },
    {
      "cell_type": "code",
      "source": [
        "# Define Models \n",
        "\n",
        "class Classifier(nn.Module):\n",
        "    def __init__(self, num_classes):\n",
        "        super(Classifier, self).__init__()\n",
        "        # Block 1\n",
        "        self.conv1 = nn.Conv2d(in_channels = 3, out_channels = 32, kernel_size = 5, stride = 2, padding = 1)\n",
        "        self.relu1 = nn.ReLU()\n",
        "        self.maxpool1 = nn.MaxPool2d(kernel_size = 2)\n",
        "\n",
        "        #Block 2\n",
        "        self.conv2 = nn.Conv2d(in_channels = 32, out_channels = 64, kernel_size = 5, stride = 2)\n",
        "        self.relu2 = nn.ReLU()\n",
        "        self.maxpool2 = nn.MaxPool2d(kernel_size=2)\n",
        "\n",
        "        #Block 3\n",
        "        self.conv3 = nn.Conv2d(in_channels = 64, out_channels = 32, kernel_size = 3, stride = 2)\n",
        "        self.relu3 = nn.ReLU()\n",
        "        self.maxpool3 = nn.MaxPool2d(kernel_size=2)\n",
        "\n",
        "        # last fully-connected layer\n",
        "        self.fc = nn.Linear(32*3*3, num_classes)\n",
        "\n",
        "\n",
        "    def forward(self, input):\n",
        "\n",
        "        x = self.maxpool1(self.relu1(self.conv1(input)))\n",
        "        x = self.maxpool2(self.relu2(self.conv2(x)))\n",
        "        x = self.maxpool3(self.relu3(self.conv3(x)))\n",
        "\n",
        "        x = x.view(x.size(0), -1)\n",
        "        x = self.fc(x)\n",
        "        return x\n",
        "\n",
        "\n",
        "model = Classifier(5)"
      ],
      "metadata": {
        "execution": {
          "iopub.execute_input": "2021-03-29T11:50:49.396116Z",
          "iopub.status.busy": "2021-03-29T11:50:49.395422Z",
          "iopub.status.idle": "2021-03-29T11:50:49.428700Z",
          "shell.execute_reply": "2021-03-29T11:50:49.428001Z"
        },
        "papermill": {
          "duration": 0.056815,
          "end_time": "2021-03-29T11:50:49.428870",
          "exception": false,
          "start_time": "2021-03-29T11:50:49.372055",
          "status": "completed"
        },
        "tags": [],
        "id": "Kk097N2bDj5h"
      },
      "execution_count": 33,
      "outputs": []
    },
    {
      "cell_type": "code",
      "source": [
        "criterion = torch.nn.CrossEntropyLoss()\n",
        "optimizer = torch.optim.Adam(model.parameters(), lr=1e-2)"
      ],
      "metadata": {
        "execution": {
          "iopub.execute_input": "2021-03-29T11:50:49.458735Z",
          "iopub.status.busy": "2021-03-29T11:50:49.457972Z",
          "iopub.status.idle": "2021-03-29T11:50:49.461960Z",
          "shell.execute_reply": "2021-03-29T11:50:49.461357Z"
        },
        "papermill": {
          "duration": 0.02129,
          "end_time": "2021-03-29T11:50:49.462113",
          "exception": false,
          "start_time": "2021-03-29T11:50:49.440823",
          "status": "completed"
        },
        "tags": [],
        "id": "NKVeWvYqDj5h"
      },
      "execution_count": 35,
      "outputs": []
    },
    {
      "cell_type": "code",
      "source": [
        "def train(model, criterion, data_loader, optimizer, num_epochs):\n",
        "    \"\"\"Simple training loop for a PyTorch model.\"\"\" \n",
        "    \n",
        "    # Make sure model is in training mode.\n",
        "    model.train()\n",
        "    \n",
        "    # Move model to the device (CPU or GPU).\n",
        "    model.to(device)\n",
        "    \n",
        "    # Exponential moving average of the loss.\n",
        "    ema_loss = None\n",
        "\n",
        "    print('----- Training Loop -----')\n",
        "    # Loop over epochs.\n",
        "    for epoch in range(num_epochs):\n",
        "        \n",
        "      # Loop over data.\n",
        "      for batch_idx, (features, target) in enumerate(data_loader):\n",
        "            \n",
        "          # Forward pass.\n",
        "        output = model(features.to(device))\n",
        "        loss = criterion(output.to(device), target.to(device))\n",
        "\n",
        "          # Backward pass.\n",
        "        optimizer.zero_grad()\n",
        "        loss.backward()\n",
        "        optimizer.step()\n",
        "\n",
        "      # NOTE: It is important to call .item() on the loss before summing.\n",
        "        if ema_loss is None:\n",
        "            ema_loss = loss.item()\n",
        "        else:\n",
        "            ema_loss += (loss.item() - ema_loss) * 0.01 \n",
        "\n",
        "      # Print out progress the end of epoch.\n",
        "      print('Epoch: {} \\tLoss: {:.6f}'.format(epoch, ema_loss),)\n",
        "  "
      ],
      "metadata": {
        "execution": {
          "iopub.execute_input": "2021-03-29T11:50:49.496069Z",
          "iopub.status.busy": "2021-03-29T11:50:49.495310Z",
          "iopub.status.idle": "2021-03-29T11:50:49.499172Z",
          "shell.execute_reply": "2021-03-29T11:50:49.498453Z"
        },
        "papermill": {
          "duration": 0.024895,
          "end_time": "2021-03-29T11:50:49.499328",
          "exception": false,
          "start_time": "2021-03-29T11:50:49.474433",
          "status": "completed"
        },
        "tags": [],
        "id": "D6PRTzYCDj5h"
      },
      "execution_count": 36,
      "outputs": []
    },
    {
      "cell_type": "code",
      "source": [
        "def test(model, data_loader):\n",
        "    \"\"\"Measures the accuracy of a model on a data set.\"\"\" \n",
        "    # Make sure the model is in evaluation mode.\n",
        "    model.eval()\n",
        "    correct = 0\n",
        "    print('----- Model Evaluation -----')\n",
        "    # We do not need to maintain intermediate activations while testing.\n",
        "    with torch.no_grad():\n",
        "        \n",
        "        # Loop over test data.\n",
        "        for features, target in data_loader:\n",
        "          \n",
        "            # Forward pass.\n",
        "            output = model(features.to(device))\n",
        "            \n",
        "            # Get the label corresponding to the highest predicted probability.\n",
        "            pred = output.argmax(dim=1, keepdim=True)\n",
        "            \n",
        "            # Count number of correct predictions.\n",
        "            correct += pred.cpu().eq(target.view_as(pred)).sum().item()\n",
        "\n",
        "    # Print test accuracy.\n",
        "    percent = 100. * correct / len(data_loader.dataset)\n",
        "    print(f'Test accuracy: {correct} / {len(data_loader.dataset)} ({percent:.0f}%)')\n",
        "    torch.save(model.state_dict(), 'model.ckpt')\n",
        "    return percent"
      ],
      "metadata": {
        "execution": {
          "iopub.execute_input": "2021-03-29T11:50:49.532699Z",
          "iopub.status.busy": "2021-03-29T11:50:49.531985Z",
          "iopub.status.idle": "2021-03-29T11:50:49.536002Z",
          "shell.execute_reply": "2021-03-29T11:50:49.535353Z"
        },
        "papermill": {
          "duration": 0.024848,
          "end_time": "2021-03-29T11:50:49.536153",
          "exception": false,
          "start_time": "2021-03-29T11:50:49.511305",
          "status": "completed"
        },
        "tags": [],
        "id": "bX1msH0QDj5i"
      },
      "execution_count": 37,
      "outputs": []
    },
    {
      "cell_type": "code",
      "source": [
        "num_epochs = 5\n",
        "train(model, criterion, train_loader, optimizer, num_epochs=num_epochs)\n",
        "test(model, valid_loader)"
      ],
      "metadata": {
        "execution": {
          "iopub.execute_input": "2021-03-29T11:50:49.567361Z",
          "iopub.status.busy": "2021-03-29T11:50:49.566686Z",
          "iopub.status.idle": "2021-03-29T12:00:25.476410Z",
          "shell.execute_reply": "2021-03-29T12:00:25.475689Z"
        },
        "papermill": {
          "duration": 575.928379,
          "end_time": "2021-03-29T12:00:25.476731",
          "exception": false,
          "start_time": "2021-03-29T11:50:49.548352",
          "status": "completed"
        },
        "tags": [],
        "colab": {
          "base_uri": "https://localhost:8080/"
        },
        "id": "OFfKUjTwDj5i",
        "outputId": "9af42de5-f20e-4540-8051-4004a87c2e58"
      },
      "execution_count": null,
      "outputs": [
        {
          "output_type": "stream",
          "name": "stdout",
          "text": [
            "----- Training Loop -----\n",
            "Epoch: 0 \tLoss: 1.412503\n",
            "Epoch: 1 \tLoss: 1.370458\n",
            "Epoch: 2 \tLoss: 1.353289\n",
            "Epoch: 3 \tLoss: 1.348053\n"
          ]
        }
      ]
    },
    {
      "cell_type": "code",
      "source": [
        "# test(model, test_loader)"
      ],
      "metadata": {
        "execution": {
          "iopub.execute_input": "2021-03-29T12:00:25.513240Z",
          "iopub.status.busy": "2021-03-29T12:00:25.512426Z",
          "iopub.status.idle": "2021-03-29T12:00:25.515568Z",
          "shell.execute_reply": "2021-03-29T12:00:25.516089Z"
        },
        "papermill": {
          "duration": 0.024454,
          "end_time": "2021-03-29T12:00:25.516290",
          "exception": false,
          "start_time": "2021-03-29T12:00:25.491836",
          "status": "completed"
        },
        "tags": [],
        "id": "LCsdD81EDj5j"
      },
      "execution_count": null,
      "outputs": []
    },
    {
      "cell_type": "code",
      "source": [
        "# Make submission here"
      ],
      "metadata": {
        "execution": {
          "iopub.execute_input": "2021-03-29T12:00:25.551080Z",
          "iopub.status.busy": "2021-03-29T12:00:25.550375Z",
          "iopub.status.idle": "2021-03-29T12:00:25.554499Z",
          "shell.execute_reply": "2021-03-29T12:00:25.553846Z"
        },
        "papermill": {
          "duration": 0.023453,
          "end_time": "2021-03-29T12:00:25.554652",
          "exception": false,
          "start_time": "2021-03-29T12:00:25.531199",
          "status": "completed"
        },
        "tags": [],
        "id": "8uBCXUsnDj5j"
      },
      "execution_count": null,
      "outputs": []
    },
    {
      "cell_type": "code",
      "source": [],
      "metadata": {
        "papermill": {
          "duration": 0.01493,
          "end_time": "2021-03-29T12:00:25.584744",
          "exception": false,
          "start_time": "2021-03-29T12:00:25.569814",
          "status": "completed"
        },
        "tags": [],
        "id": "_WRx3hECDj5j"
      },
      "execution_count": null,
      "outputs": []
    }
  ]
}