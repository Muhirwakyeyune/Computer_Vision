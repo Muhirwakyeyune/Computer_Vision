{
  "cells": [
    {
      "cell_type": "markdown",
      "metadata": {
        "id": "view-in-github",
        "colab_type": "text"
      },
      "source": [
        "<a href=\"https://colab.research.google.com/github/Muhirwakyeyune/Computer_Vision/blob/main/convnet_tutorial1b_filled.ipynb\" target=\"_parent\"><img src=\"https://colab.research.google.com/assets/colab-badge.svg\" alt=\"Open In Colab\"/></a>"
      ]
    },
    {
      "cell_type": "code",
      "execution_count": 1,
      "metadata": {
        "id": "hqnl0AKVXIA4"
      },
      "outputs": [],
      "source": [
        "import torch\n",
        "from torch import Tensor"
      ]
    },
    {
      "cell_type": "markdown",
      "metadata": {
        "id": "LuIGI5_N00_u"
      },
      "source": [
        "# Tutorial 1b: Softmax Function"
      ]
    },
    {
      "cell_type": "markdown",
      "metadata": {
        "id": "g1DV-MS2bxYq"
      },
      "source": [
        "**Question:** To have the logistic regressor output probabilities, they need to be processed through a softmax layer. Implement a softmax layer yourself. What numerical issues may arise in this layer? How can you solve them? Use the testing code to confirm you implemented it correctly."
      ]
    },
    {
      "cell_type": "code",
      "execution_count": 3,
      "metadata": {
        "id": "8HJuW9fw00_u"
      },
      "outputs": [],
      "source": [
        "logits = torch.rand((1, 20)) + 100"
      ]
    },
    {
      "cell_type": "code",
      "execution_count": 4,
      "metadata": {
        "id": "Dj4X2PnOfK9W"
      },
      "outputs": [],
      "source": [
        "def bad_softmax(x: Tensor) -> Tensor:\n",
        "    return torch.exp(x) / torch.sum(torch.exp(logits), axis=0)"
      ]
    },
    {
      "cell_type": "code",
      "execution_count": 5,
      "metadata": {
        "id": "41TsLvC100_v",
        "colab": {
          "base_uri": "https://localhost:8080/"
        },
        "outputId": "d7a27b71-2ae7-4543-8bc1-59a2d4b8d072"
      },
      "outputs": [
        {
          "output_type": "execute_result",
          "data": {
            "text/plain": [
              "tensor(nan)"
            ]
          },
          "metadata": {},
          "execution_count": 5
        }
      ],
      "source": [
        "torch.sum(bad_softmax(logits))"
      ]
    },
    {
      "cell_type": "code",
      "execution_count": 9,
      "metadata": {
        "id": "r9bZ0IRS00_v"
      },
      "outputs": [],
      "source": [
        "def good_softmax(x: Tensor) -> Tensor:\n",
        "    ###########################################################################\n",
        "    # TODO: Implement a more stable way to compute softmax                    #\n",
        "    ###########################################################################\n",
        "    x_max=torch.max(x, dim=-1, keepdim=True)[0]\n",
        "    x=x-x_max\n",
        "    # compute exponentials and their sum\n",
        "    exp_x=torch.exp(x)\n",
        "    exp_x_sum=torch.sum(exp_x, dim=-1, keepdim=True)\n",
        "    softmax_x=exp_x/exp_x_sum\n",
        "    return softmax_x"
      ]
    },
    {
      "cell_type": "code",
      "execution_count": 10,
      "metadata": {
        "id": "ToWDx-dJ00_v",
        "colab": {
          "base_uri": "https://localhost:8080/"
        },
        "outputId": "6521126a-2942-4e14-fd76-baf12a70f701"
      },
      "outputs": [
        {
          "output_type": "execute_result",
          "data": {
            "text/plain": [
              "tensor(1.0000)"
            ]
          },
          "metadata": {},
          "execution_count": 10
        }
      ],
      "source": [
        "torch.sum(good_softmax(logits))"
      ]
    },
    {
      "cell_type": "markdown",
      "metadata": {
        "id": "4C_J5S0RScXJ"
      },
      "source": [
        "Because of numerical issues like the one you just experiences, PyTorch code typically uses a `LogSoftmax` layer."
      ]
    },
    {
      "cell_type": "markdown",
      "metadata": {
        "id": "lgStX-ctjIms"
      },
      "source": [
        "**Question [optional]:** PyTorch automatically computes the backpropagation gradient of a module for you. However, it can be instructive to derive and implement your own backward function. Try and implement the backward function for your softmax module and confirm that it is correct."
      ]
    }
  ],
  "metadata": {
    "accelerator": "GPU",
    "colab": {
      "provenance": [],
      "include_colab_link": true
    },
    "kernelspec": {
      "display_name": "convnet_tutorials",
      "language": "python",
      "name": "convnet_tutorials"
    },
    "language_info": {
      "codemirror_mode": {
        "name": "ipython",
        "version": 3
      },
      "file_extension": ".py",
      "mimetype": "text/x-python",
      "name": "python",
      "nbconvert_exporter": "python",
      "pygments_lexer": "ipython3",
      "version": "3.9.10"
    }
  },
  "nbformat": 4,
  "nbformat_minor": 0
}